{
 "cells": [
  {
   "cell_type": "code",
   "execution_count": 1,
   "metadata": {},
   "outputs": [],
   "source": [
    "import torch"
   ]
  },
  {
   "cell_type": "code",
   "execution_count": 35,
   "metadata": {},
   "outputs": [],
   "source": [
    "import torch\n",
    "path = \"/Users/abd/projects/Graph-Structure-Learning4Brain-Activity/dataset/cobre/fmri/processed/aal_fmri_pt=0.5_data.pt\"\n",
    "x = torch.load(path)"
   ]
  },
  {
   "cell_type": "code",
   "execution_count": 36,
   "metadata": {},
   "outputs": [
    {
     "data": {
      "text/plain": [
       "torch_geometric.data.data.Data"
      ]
     },
     "execution_count": 36,
     "metadata": {},
     "output_type": "execute_result"
    }
   ],
   "source": [
    "type(x[0])"
   ]
  },
  {
   "cell_type": "code",
   "execution_count": 37,
   "metadata": {},
   "outputs": [
    {
     "data": {
      "text/plain": [
       "dict_keys(['x', 'edge_index', 'edge_attr', 'y', 'subj_id'])"
      ]
     },
     "execution_count": 37,
     "metadata": {},
     "output_type": "execute_result"
    }
   ],
   "source": [
    "x[1].keys()"
   ]
  },
  {
   "cell_type": "code",
   "execution_count": 38,
   "metadata": {},
   "outputs": [
    {
     "data": {
      "text/plain": [
       "{}"
      ]
     },
     "execution_count": 38,
     "metadata": {},
     "output_type": "execute_result"
    }
   ],
   "source": [
    "x[1]['sub_id']"
   ]
  },
  {
   "cell_type": "code",
   "execution_count": 17,
   "metadata": {},
   "outputs": [
    {
     "data": {
      "text/plain": [
       "tensor([      0,    6728,   13456,   20184,   26912,   33640,   40368,   47096,\n",
       "          53824,   60552,   67280,   74008,   80736,   87464,   94192,  100920,\n",
       "         107648,  114376,  121104,  127832,  134560,  141288,  148016,  154744,\n",
       "         161472,  168200,  174928,  181656,  188384,  195112,  201840,  208568,\n",
       "         215296,  222024,  228752,  235480,  242208,  248936,  255664,  262392,\n",
       "         269120,  275848,  282576,  289304,  296032,  302760,  309488,  316216,\n",
       "         322944,  329672,  336400,  343128,  349856,  356584,  363312,  370040,\n",
       "         376768,  383496,  390224,  396952,  403680,  410408,  417136,  423864,\n",
       "         430592,  437320,  444048,  450776,  457504,  464232,  470960,  477688,\n",
       "         484416,  491144,  497872,  504600,  511328,  518056,  524784,  531512,\n",
       "         538240,  544968,  551696,  558424,  565152,  571880,  578608,  585336,\n",
       "         592064,  598792,  605520,  612248,  618976,  625704,  632432,  639160,\n",
       "         645888,  652616,  659344,  666072,  672800,  679528,  686256,  692984,\n",
       "         699712,  706440,  713168,  719896,  726624,  733352,  740080,  746808,\n",
       "         753536,  760264,  766992,  773720,  780448,  787176,  793904,  800632,\n",
       "         807360,  814088,  820816,  827544,  834272,  841000,  847728,  854456,\n",
       "         861184,  867912,  874640,  881368,  888096,  894824,  901552,  908280,\n",
       "         915008,  921736,  928464,  935192,  941920,  948648,  955376,  962104,\n",
       "         968832,  975560,  982288,  989016,  995744, 1002472, 1009200, 1015928,\n",
       "        1022656])"
      ]
     },
     "execution_count": 17,
     "metadata": {},
     "output_type": "execute_result"
    }
   ],
   "source": [
    "x[1]['edge_attr']"
   ]
  },
  {
   "cell_type": "code",
   "execution_count": 7,
   "metadata": {},
   "outputs": [
    {
     "data": {
      "text/plain": [
       "Data(x=[17632, 116], edge_index=[2, 1022656], edge_attr=[1022656], y=[152], num_nodes=17632, subj_id=[152])"
      ]
     },
     "execution_count": 7,
     "metadata": {},
     "output_type": "execute_result"
    }
   ],
   "source": [
    "x[0]"
   ]
  },
  {
   "cell_type": "code",
   "execution_count": 8,
   "metadata": {},
   "outputs": [
    {
     "name": "stdout",
     "output_type": "stream",
     "text": [
      "torch.Size([17632, 116])\n"
     ]
    }
   ],
   "source": [
    "for t in x[0]:\n",
    "    t1, t2 = t\n",
    "    print(t2.shape)\n",
    "    break"
   ]
  },
  {
   "cell_type": "code",
   "execution_count": 9,
   "metadata": {},
   "outputs": [
    {
     "data": {
      "text/plain": [
       "tensor([1, 1, 0, 1, 0, 0, 0, 0, 1, 0, 1, 0, 1, 0, 0, 0, 1, 0, 1, 0, 0, 0, 0, 0,\n",
       "        1, 1, 0, 0, 0, 0, 1, 1, 0, 1, 1, 1, 1, 1, 0, 1, 0, 1, 1, 0, 0, 0, 1, 1,\n",
       "        1, 1, 0, 0, 0, 1, 0, 1, 0, 0, 0, 1, 1, 1, 1, 0, 0, 0, 1, 1, 0, 1, 1, 1,\n",
       "        0, 1, 0, 0, 0, 1, 0, 1, 0, 1, 0, 1, 0, 1, 0, 0, 0, 0, 0, 0, 1, 1, 1, 0,\n",
       "        1, 0, 0, 0, 1, 1, 0, 0, 1, 0, 1, 1, 0, 0, 0, 0, 0, 1, 1, 0, 0, 1, 0, 1,\n",
       "        1, 0, 0, 1, 0, 1, 1, 1, 1, 0, 0, 1, 0, 1, 1, 0, 0, 1, 1, 0, 0, 1, 0, 1,\n",
       "        0, 0, 1, 0, 0, 0, 0, 1])"
      ]
     },
     "execution_count": 9,
     "metadata": {},
     "output_type": "execute_result"
    }
   ],
   "source": [
    "x[0].y"
   ]
  },
  {
   "cell_type": "code",
   "execution_count": 10,
   "metadata": {},
   "outputs": [
    {
     "data": {
      "text/plain": [
       "Data(x=[17632, 116], edge_index=[2, 1022656], edge_attr=[1022656], y=[152], num_nodes=17632, subj_id=[152])"
      ]
     },
     "execution_count": 10,
     "metadata": {},
     "output_type": "execute_result"
    }
   ],
   "source": []
  },
  {
   "cell_type": "code",
   "execution_count": 22,
   "metadata": {},
   "outputs": [],
   "source": [
    "from torch_geometric.utils import to_dense_adj"
   ]
  },
  {
   "cell_type": "code",
   "execution_count": 23,
   "metadata": {},
   "outputs": [],
   "source": [
    "A = to_dense_adj(x[0].edge_index)"
   ]
  },
  {
   "cell_type": "code",
   "execution_count": 27,
   "metadata": {},
   "outputs": [
    {
     "data": {
      "text/plain": [
       "tensor([[[  0., 152., 148.,  ...,  57.,  37.,  34.],\n",
       "         [152.,   0., 113.,  ...,  64.,  35.,  31.],\n",
       "         [148., 113.,   0.,  ...,  42.,  32.,  39.],\n",
       "         ...,\n",
       "         [ 57.,  64.,  42.,  ...,   0., 132., 112.],\n",
       "         [ 37.,  35.,  32.,  ..., 132.,   0., 103.],\n",
       "         [ 34.,  31.,  39.,  ..., 112., 103.,   0.]]])"
      ]
     },
     "execution_count": 27,
     "metadata": {},
     "output_type": "execute_result"
    }
   ],
   "source": [
    "A"
   ]
  },
  {
   "cell_type": "code",
   "execution_count": 28,
   "metadata": {},
   "outputs": [
    {
     "data": {
      "text/plain": [
       "tensor([[  0,   0,   0,  ..., 115, 115, 115],\n",
       "        [  1,   2,   3,  ..., 101, 106, 107]])"
      ]
     },
     "execution_count": 28,
     "metadata": {},
     "output_type": "execute_result"
    }
   ],
   "source": [
    "x[0].edge_index"
   ]
  },
  {
   "cell_type": "code",
   "execution_count": 29,
   "metadata": {},
   "outputs": [],
   "source": [
    "path = \"/Users/abd/projects/Graph-Structure-Learning4Brain-Activity/dataset/cobre/fmri/processed/aal_fmri_data.pt\"\n",
    "x = torch.load(path)"
   ]
  },
  {
   "cell_type": "code",
   "execution_count": 30,
   "metadata": {},
   "outputs": [
    {
     "data": {
      "text/plain": [
       "(Data(x=[17632, 116], edge_index=[2, 2045312], edge_attr=[2045312], y=[152], num_nodes=17632, subj_id=[152]),\n",
       " defaultdict(dict,\n",
       "             {'x': tensor([    0,   116,   232,   348,   464,   580,   696,   812,   928,  1044,\n",
       "                       1160,  1276,  1392,  1508,  1624,  1740,  1856,  1972,  2088,  2204,\n",
       "                       2320,  2436,  2552,  2668,  2784,  2900,  3016,  3132,  3248,  3364,\n",
       "                       3480,  3596,  3712,  3828,  3944,  4060,  4176,  4292,  4408,  4524,\n",
       "                       4640,  4756,  4872,  4988,  5104,  5220,  5336,  5452,  5568,  5684,\n",
       "                       5800,  5916,  6032,  6148,  6264,  6380,  6496,  6612,  6728,  6844,\n",
       "                       6960,  7076,  7192,  7308,  7424,  7540,  7656,  7772,  7888,  8004,\n",
       "                       8120,  8236,  8352,  8468,  8584,  8700,  8816,  8932,  9048,  9164,\n",
       "                       9280,  9396,  9512,  9628,  9744,  9860,  9976, 10092, 10208, 10324,\n",
       "                      10440, 10556, 10672, 10788, 10904, 11020, 11136, 11252, 11368, 11484,\n",
       "                      11600, 11716, 11832, 11948, 12064, 12180, 12296, 12412, 12528, 12644,\n",
       "                      12760, 12876, 12992, 13108, 13224, 13340, 13456, 13572, 13688, 13804,\n",
       "                      13920, 14036, 14152, 14268, 14384, 14500, 14616, 14732, 14848, 14964,\n",
       "                      15080, 15196, 15312, 15428, 15544, 15660, 15776, 15892, 16008, 16124,\n",
       "                      16240, 16356, 16472, 16588, 16704, 16820, 16936, 17052, 17168, 17284,\n",
       "                      17400, 17516, 17632]),\n",
       "              'edge_index': tensor([      0,   13456,   26912,   40368,   53824,   67280,   80736,   94192,\n",
       "                       107648,  121104,  134560,  148016,  161472,  174928,  188384,  201840,\n",
       "                       215296,  228752,  242208,  255664,  269120,  282576,  296032,  309488,\n",
       "                       322944,  336400,  349856,  363312,  376768,  390224,  403680,  417136,\n",
       "                       430592,  444048,  457504,  470960,  484416,  497872,  511328,  524784,\n",
       "                       538240,  551696,  565152,  578608,  592064,  605520,  618976,  632432,\n",
       "                       645888,  659344,  672800,  686256,  699712,  713168,  726624,  740080,\n",
       "                       753536,  766992,  780448,  793904,  807360,  820816,  834272,  847728,\n",
       "                       861184,  874640,  888096,  901552,  915008,  928464,  941920,  955376,\n",
       "                       968832,  982288,  995744, 1009200, 1022656, 1036112, 1049568, 1063024,\n",
       "                      1076480, 1089936, 1103392, 1116848, 1130304, 1143760, 1157216, 1170672,\n",
       "                      1184128, 1197584, 1211040, 1224496, 1237952, 1251408, 1264864, 1278320,\n",
       "                      1291776, 1305232, 1318688, 1332144, 1345600, 1359056, 1372512, 1385968,\n",
       "                      1399424, 1412880, 1426336, 1439792, 1453248, 1466704, 1480160, 1493616,\n",
       "                      1507072, 1520528, 1533984, 1547440, 1560896, 1574352, 1587808, 1601264,\n",
       "                      1614720, 1628176, 1641632, 1655088, 1668544, 1682000, 1695456, 1708912,\n",
       "                      1722368, 1735824, 1749280, 1762736, 1776192, 1789648, 1803104, 1816560,\n",
       "                      1830016, 1843472, 1856928, 1870384, 1883840, 1897296, 1910752, 1924208,\n",
       "                      1937664, 1951120, 1964576, 1978032, 1991488, 2004944, 2018400, 2031856,\n",
       "                      2045312]),\n",
       "              'edge_attr': tensor([      0,   13456,   26912,   40368,   53824,   67280,   80736,   94192,\n",
       "                       107648,  121104,  134560,  148016,  161472,  174928,  188384,  201840,\n",
       "                       215296,  228752,  242208,  255664,  269120,  282576,  296032,  309488,\n",
       "                       322944,  336400,  349856,  363312,  376768,  390224,  403680,  417136,\n",
       "                       430592,  444048,  457504,  470960,  484416,  497872,  511328,  524784,\n",
       "                       538240,  551696,  565152,  578608,  592064,  605520,  618976,  632432,\n",
       "                       645888,  659344,  672800,  686256,  699712,  713168,  726624,  740080,\n",
       "                       753536,  766992,  780448,  793904,  807360,  820816,  834272,  847728,\n",
       "                       861184,  874640,  888096,  901552,  915008,  928464,  941920,  955376,\n",
       "                       968832,  982288,  995744, 1009200, 1022656, 1036112, 1049568, 1063024,\n",
       "                      1076480, 1089936, 1103392, 1116848, 1130304, 1143760, 1157216, 1170672,\n",
       "                      1184128, 1197584, 1211040, 1224496, 1237952, 1251408, 1264864, 1278320,\n",
       "                      1291776, 1305232, 1318688, 1332144, 1345600, 1359056, 1372512, 1385968,\n",
       "                      1399424, 1412880, 1426336, 1439792, 1453248, 1466704, 1480160, 1493616,\n",
       "                      1507072, 1520528, 1533984, 1547440, 1560896, 1574352, 1587808, 1601264,\n",
       "                      1614720, 1628176, 1641632, 1655088, 1668544, 1682000, 1695456, 1708912,\n",
       "                      1722368, 1735824, 1749280, 1762736, 1776192, 1789648, 1803104, 1816560,\n",
       "                      1830016, 1843472, 1856928, 1870384, 1883840, 1897296, 1910752, 1924208,\n",
       "                      1937664, 1951120, 1964576, 1978032, 1991488, 2004944, 2018400, 2031856,\n",
       "                      2045312]),\n",
       "              'y': tensor([  0,   1,   2,   3,   4,   5,   6,   7,   8,   9,  10,  11,  12,  13,\n",
       "                       14,  15,  16,  17,  18,  19,  20,  21,  22,  23,  24,  25,  26,  27,\n",
       "                       28,  29,  30,  31,  32,  33,  34,  35,  36,  37,  38,  39,  40,  41,\n",
       "                       42,  43,  44,  45,  46,  47,  48,  49,  50,  51,  52,  53,  54,  55,\n",
       "                       56,  57,  58,  59,  60,  61,  62,  63,  64,  65,  66,  67,  68,  69,\n",
       "                       70,  71,  72,  73,  74,  75,  76,  77,  78,  79,  80,  81,  82,  83,\n",
       "                       84,  85,  86,  87,  88,  89,  90,  91,  92,  93,  94,  95,  96,  97,\n",
       "                       98,  99, 100, 101, 102, 103, 104, 105, 106, 107, 108, 109, 110, 111,\n",
       "                      112, 113, 114, 115, 116, 117, 118, 119, 120, 121, 122, 123, 124, 125,\n",
       "                      126, 127, 128, 129, 130, 131, 132, 133, 134, 135, 136, 137, 138, 139,\n",
       "                      140, 141, 142, 143, 144, 145, 146, 147, 148, 149, 150, 151, 152]),\n",
       "              'subj_id': tensor([  0,   1,   2,   3,   4,   5,   6,   7,   8,   9,  10,  11,  12,  13,\n",
       "                       14,  15,  16,  17,  18,  19,  20,  21,  22,  23,  24,  25,  26,  27,\n",
       "                       28,  29,  30,  31,  32,  33,  34,  35,  36,  37,  38,  39,  40,  41,\n",
       "                       42,  43,  44,  45,  46,  47,  48,  49,  50,  51,  52,  53,  54,  55,\n",
       "                       56,  57,  58,  59,  60,  61,  62,  63,  64,  65,  66,  67,  68,  69,\n",
       "                       70,  71,  72,  73,  74,  75,  76,  77,  78,  79,  80,  81,  82,  83,\n",
       "                       84,  85,  86,  87,  88,  89,  90,  91,  92,  93,  94,  95,  96,  97,\n",
       "                       98,  99, 100, 101, 102, 103, 104, 105, 106, 107, 108, 109, 110, 111,\n",
       "                      112, 113, 114, 115, 116, 117, 118, 119, 120, 121, 122, 123, 124, 125,\n",
       "                      126, 127, 128, 129, 130, 131, 132, 133, 134, 135, 136, 137, 138, 139,\n",
       "                      140, 141, 142, 143, 144, 145, 146, 147, 148, 149, 150, 151, 152])}))"
      ]
     },
     "execution_count": 30,
     "metadata": {},
     "output_type": "execute_result"
    }
   ],
   "source": [
    "x"
   ]
  },
  {
   "cell_type": "code",
   "execution_count": 31,
   "metadata": {},
   "outputs": [],
   "source": [
    "pre_filter = torch.load(\"/Users/abd/projects/Graph-Structure-Learning4Brain-Activity/dataset/cobre/fmri/processed/pre_filter.pt\")"
   ]
  },
  {
   "cell_type": "code",
   "execution_count": 32,
   "metadata": {},
   "outputs": [
    {
     "data": {
      "text/plain": [
       "'None'"
      ]
     },
     "execution_count": 32,
     "metadata": {},
     "output_type": "execute_result"
    }
   ],
   "source": [
    "pre_filter"
   ]
  },
  {
   "cell_type": "code",
   "execution_count": 33,
   "metadata": {},
   "outputs": [],
   "source": [
    "pre_trans = torch.load(\"/Users/abd/projects/Graph-Structure-Learning4Brain-Activity/dataset/cobre/fmri/processed/pre_transform.pt\")"
   ]
  },
  {
   "cell_type": "code",
   "execution_count": 34,
   "metadata": {},
   "outputs": [
    {
     "data": {
      "text/plain": [
       "'None'"
      ]
     },
     "execution_count": 34,
     "metadata": {},
     "output_type": "execute_result"
    }
   ],
   "source": [
    "pre_trans"
   ]
  },
  {
   "cell_type": "code",
   "execution_count": 178,
   "metadata": {},
   "outputs": [
    {
     "data": {
      "text/plain": [
       "{'A00000300': 'No_Known_Disorder',\n",
       " 'A00000368': 'Schizophrenia_Strict',\n",
       " 'A00000456': 'Schizophrenia_Strict',\n",
       " 'A00000541': 'Schizophrenia_Strict',\n",
       " 'A00000838': 'Schizophrenia_Strict',\n",
       " 'A00000909': 'Schizophrenia_Strict',\n",
       " 'A00001181': 'Schizophrenia_Strict',\n",
       " 'A00001243': 'Schizophrenia_Strict',\n",
       " 'A00001251': 'Schizophrenia_Strict',\n",
       " 'A00001452': 'Schizophrenia_Strict',\n",
       " 'A00002405': 'Schizophrenia_Strict',\n",
       " 'A00002480': 'Schizophrenia_Strict',\n",
       " 'A00003150': 'No_Known_Disorder',\n",
       " 'A00004087': 'No_Known_Disorder',\n",
       " 'A00004507': 'Schizophrenia_Strict',\n",
       " 'A00006754': 'Schizophrenia_Strict',\n",
       " 'A00007409': 'No_Known_Disorder',\n",
       " 'A00009280': 'Schizophrenia_Strict',\n",
       " 'A00009656': 'Schizophrenia_Strict',\n",
       " 'A00009946': 'No_Known_Disorder',\n",
       " 'A00010150': 'No_Known_Disorder',\n",
       " 'A00010684': 'No_Known_Disorder',\n",
       " 'A00011265': 'No_Known_Disorder',\n",
       " 'A00011725': 'No_Known_Disorder',\n",
       " 'A00012995': 'No_Known_Disorder',\n",
       " 'A00013140': 'No_Known_Disorder',\n",
       " 'A00013363': 'No_Known_Disorder',\n",
       " 'A00013816': 'No_Known_Disorder',\n",
       " 'A00014120': 'No_Known_Disorder',\n",
       " 'A00014175': 'Schizoaffective',\n",
       " 'A00014225': 'No_Known_Disorder',\n",
       " 'A00014522': 'No_Known_Disorder',\n",
       " 'A00014590': 'Schizophrenia_Strict',\n",
       " 'A00014607': 'Schizophrenia_Strict',\n",
       " 'A00014636': 'Schizophrenia_Strict',\n",
       " 'A00014719': 'Schizophrenia_Strict',\n",
       " 'A00014804': 'Schizophrenia_Strict',\n",
       " 'A00014830': 'Schizophrenia_Strict',\n",
       " 'A00014898': 'No_Known_Disorder',\n",
       " 'A00015201': 'Schizophrenia_Strict',\n",
       " 'A00015518': 'Schizophrenia_Strict',\n",
       " 'A00015648': 'Schizophrenia_Strict',\n",
       " 'A00015759': 'No_Known_Disorder',\n",
       " 'A00015826': 'No_Known_Disorder',\n",
       " 'A00016197': 'Schizophrenia_Strict',\n",
       " 'A00016720': 'Schizophrenia_Strict',\n",
       " 'A00016723': 'Schizophrenia_Strict',\n",
       " 'A00017147': 'Schizophrenia_Strict',\n",
       " 'A00017294': 'No_Known_Disorder',\n",
       " 'A00018317': 'Schizophrenia_Strict',\n",
       " 'A00018403': 'Schizophrenia_Strict',\n",
       " 'A00018553': 'No_Known_Disorder',\n",
       " 'A00018598': 'Schizophrenia_Strict',\n",
       " 'A00018979': 'Schizophrenia_Strict',\n",
       " 'A00019293': 'Schizophrenia_Strict',\n",
       " 'A00019349': 'Schizophrenia_Strict',\n",
       " 'A00019750': 'Schizoaffective',\n",
       " 'A00019888': 'No_Known_Disorder',\n",
       " 'A00020414': 'Schizophrenia_Strict',\n",
       " 'A00020416': 'Schizoaffective',\n",
       " 'A00020602': 'Schizophrenia_Strict',\n",
       " 'A00020787': 'Schizophrenia_Strict',\n",
       " 'A00020805': 'No_Known_Disorder',\n",
       " 'A00020895': 'No_Known_Disorder',\n",
       " 'A00020968': 'No_Known_Disorder',\n",
       " 'A00020984': 'No_Known_Disorder',\n",
       " 'A00021058': 'No_Known_Disorder',\n",
       " 'A00021072': 'No_Known_Disorder',\n",
       " 'A00021081': 'No_Known_Disorder',\n",
       " 'A00021085': 'No_Known_Disorder',\n",
       " 'A00021145': 'No_Known_Disorder',\n",
       " 'A00021591': 'Schizophrenia_Strict',\n",
       " 'A00021598': 'Schizophrenia_Strict',\n",
       " 'A00022400': 'No_Known_Disorder',\n",
       " 'A00022490': 'No_Known_Disorder',\n",
       " 'A00022500': 'Schizophrenia_Strict',\n",
       " 'A00022509': 'No_Known_Disorder',\n",
       " 'A00022592': 'No_Known_Disorder',\n",
       " 'A00022653': 'No_Known_Disorder',\n",
       " 'A00022687': 'No_Known_Disorder',\n",
       " 'A00022727': 'No_Known_Disorder',\n",
       " 'A00022729': 'No_Known_Disorder',\n",
       " 'A00022773': 'No_Known_Disorder',\n",
       " 'A00022810': 'No_Known_Disorder',\n",
       " 'A00022835': 'No_Known_Disorder',\n",
       " 'A00022837': 'No_Known_Disorder',\n",
       " 'A00022915': 'No_Known_Disorder',\n",
       " 'A00023095': 'No_Known_Disorder',\n",
       " 'A00023120': 'No_Known_Disorder',\n",
       " 'A00023131': 'No_Known_Disorder',\n",
       " 'A00023132': 'Schizophrenia_Strict',\n",
       " 'A00023158': 'Schizophrenia_Strict',\n",
       " 'A00023243': 'Schizophrenia_Strict',\n",
       " 'A00023246': 'Schizophrenia_Strict',\n",
       " 'A00023330': 'No_Known_Disorder',\n",
       " 'A00023337': 'No_Known_Disorder',\n",
       " 'A00023366': 'Schizophrenia_Strict',\n",
       " 'A00023590': 'Schizophrenia_Strict',\n",
       " 'A00023730': 'No_Known_Disorder',\n",
       " 'A00023750': 'Schizophrenia_Strict',\n",
       " 'A00023800': 'No_Known_Disorder',\n",
       " 'A00023848': 'No_Known_Disorder',\n",
       " 'A00023866': 'No_Known_Disorder',\n",
       " 'A00024160': 'No_Known_Disorder',\n",
       " 'A00024198': 'Schizophrenia_Strict',\n",
       " 'A00024228': 'Schizophrenia_Strict',\n",
       " 'A00024301': 'No_Known_Disorder',\n",
       " 'A00024372': 'No_Known_Disorder',\n",
       " 'A00024446': 'No_Known_Disorder',\n",
       " 'A00024535': 'No_Known_Disorder',\n",
       " 'A00024546': 'No_Known_Disorder',\n",
       " 'A00024568': 'Schizophrenia_Strict',\n",
       " 'A00024663': 'No_Known_Disorder',\n",
       " 'A00024684': 'Schizophrenia_Strict',\n",
       " 'A00024932': 'No_Known_Disorder',\n",
       " 'A00024953': 'Schizophrenia_Strict',\n",
       " 'A00024955': 'No_Known_Disorder',\n",
       " 'A00024959': 'Schizophrenia_Strict',\n",
       " 'A00025969': 'No_Known_Disorder',\n",
       " 'A00026907': 'No_Known_Disorder',\n",
       " 'A00026945': 'No_Known_Disorder',\n",
       " 'A00027119': 'Schizophrenia_Strict',\n",
       " 'A00027391': 'Schizophrenia_Strict',\n",
       " 'A00027410': 'Schizophrenia_Strict',\n",
       " 'A00027487': 'No_Known_Disorder',\n",
       " 'A00027537': 'Schizophrenia_Strict',\n",
       " 'A00027616': 'Schizophrenia_Strict',\n",
       " 'A00027755': 'Schizoaffective',\n",
       " 'A00027787': 'No_Known_Disorder',\n",
       " 'A00027969': 'Schizoaffective',\n",
       " 'A00028052': 'No_Known_Disorder',\n",
       " 'A00028189': 'Schizoaffective',\n",
       " 'A00028303': 'Schizophrenia_Strict',\n",
       " 'A00028402': 'Schizoaffective',\n",
       " 'A00028404': 'Schizophrenia_Strict',\n",
       " 'A00028405': 'Schizophrenia_Strict',\n",
       " 'A00028408': 'Schizophrenia_Strict',\n",
       " 'A00028409': 'No_Known_Disorder',\n",
       " 'A00028410': 'Schizophrenia_Strict',\n",
       " 'A00028805': 'Schizophrenia_Strict',\n",
       " 'A00028806': 'Schizophrenia_Strict',\n",
       " 'A00029226': 'No_Known_Disorder',\n",
       " 'A00029452': 'No_Known_Disorder',\n",
       " 'A00029486': 'Schizophrenia_Strict',\n",
       " 'A00031271': 'Schizoaffective',\n",
       " 'A00031478': 'No_Known_Disorder',\n",
       " 'A00031597': 'Schizophrenia_Strict',\n",
       " 'A00031764': 'No_Known_Disorder',\n",
       " 'A00033214': 'No_Known_Disorder',\n",
       " 'A00035003': 'Schizophrenia_Strict',\n",
       " 'A00035485': 'Schizophrenia_Strict',\n",
       " 'A00035751': 'No_Known_Disorder',\n",
       " 'A00035836': 'Schizoaffective',\n",
       " 'A00035859': 'Schizoaffective',\n",
       " 'A00036049': 'No_Known_Disorder',\n",
       " 'A00036555': 'No_Known_Disorder',\n",
       " 'A00036844': 'No_Known_Disorder',\n",
       " 'A00036897': 'No_Known_Disorder',\n",
       " 'A00036916': 'No_Known_Disorder',\n",
       " 'A00037007': 'No_Known_Disorder',\n",
       " 'A00037034': 'Schizophrenia_Strict',\n",
       " 'A00037224': 'Schizophrenia_Strict',\n",
       " 'A00037238': 'No_Known_Disorder',\n",
       " 'A00037318': 'No_Known_Disorder',\n",
       " 'A00037495': 'No_Known_Disorder',\n",
       " 'A00037564': 'No_Known_Disorder',\n",
       " 'A00037619': 'Schizophrenia_Strict',\n",
       " 'A00037649': 'Schizophrenia_Strict',\n",
       " 'A00037665': 'No_Known_Disorder',\n",
       " 'A00037854': 'Schizophrenia_Strict',\n",
       " 'A00038172': 'Schizoaffective',\n",
       " 'A00038441': 'Schizophrenia_Strict',\n",
       " 'A00038624': 'Schizophrenia_Strict',\n",
       " 'A00018129': 'Schizophrenia_Strict'}"
      ]
     },
     "execution_count": 178,
     "metadata": {},
     "output_type": "execute_result"
    }
   ],
   "source": [
    "data_path = Path.cwd().parent / \"dataset\" / \"cobre\" / \"fmri\" / \"raw\" / \"aal\"\n",
    "data_path = data_path.parent.parent.parent\n",
    "\n",
    "md = pd.read_csv(str(data_path / \"meta_data.tsv\"), sep='\\t')\n",
    "md = md[[\"Subjectid\", \"Dx\"]]\n",
    "dmd = md.drop_duplicates()\n",
    "md = md.reset_index(drop=True)\n",
    "\n",
    "\n",
    "label_dict = {}\n",
    "for row in md.iterrows():\n",
    "    label_dict[row[1]['Subjectid']] = row[1]['Dx']\n",
    "label_dict"
   ]
  },
  {
   "cell_type": "code",
   "execution_count": 167,
   "metadata": {},
   "outputs": [
    {
     "name": "stdout",
     "output_type": "stream",
     "text": [
      "/Users/abd/projects/Graph-Structure-Learning4Brain-Activity/dataset/cobre/fmri/raw/aal\n",
      "163\n"
     ]
    }
   ],
   "source": [
    "import os \n",
    "from pathlib import Path \n",
    "\n",
    "data_path = Path.cwd().parent / \"dataset\" / \"cobre\" / \"fmri\" / \"raw\" / \"aal\"\n",
    "# data_path = Path.cwd()\n",
    "print(data_path)\n",
    "\n",
    "\n",
    "file_names = []\n",
    "for fn in data_path.iterdir():\n",
    "    if \"embed\" not in str(fn): \n",
    "        file_names.append(str(fn))\n",
    "\n",
    "\n",
    "print(len(file_names))"
   ]
  },
  {
   "cell_type": "code",
   "execution_count": 111,
   "metadata": {},
   "outputs": [],
   "source": [
    "import pandas as pd \n",
    "\n",
    "min_max = []\n",
    "\n",
    "for fn in file_names:\n",
    "\n",
    "    df = pd.read_csv(fn)\n",
    "    A = df[df.columns[1:]].to_numpy()\n",
    "\n",
    "    assert np.allclose(A, A.T,  rtol=1e-05, atol=1e-08), f\"Not symmetrix {fn}\"\n",
    "    min_max.append(A.max())\n",
    "    min_max.append(A.min())"
   ]
  },
  {
   "cell_type": "code",
   "execution_count": 99,
   "metadata": {},
   "outputs": [],
   "source": [
    "## select all columns expect 1st in pd\n",
    "\n",
    "A = df[df.columns[1:]].to_numpy()"
   ]
  },
  {
   "cell_type": "code",
   "execution_count": 108,
   "metadata": {},
   "outputs": [],
   "source": [
    "import numpy as np \n"
   ]
  },
  {
   "cell_type": "code",
   "execution_count": 110,
   "metadata": {},
   "outputs": [
    {
     "data": {
      "text/plain": [
       "True"
      ]
     },
     "execution_count": 110,
     "metadata": {},
     "output_type": "execute_result"
    }
   ],
   "source": []
  },
  {
   "cell_type": "code",
   "execution_count": 100,
   "metadata": {},
   "outputs": [
    {
     "data": {
      "text/plain": [
       "(array([ 12.,   6.,   4.,  12.,  12.,  20.,  34.,  44.,  44.,  80.,  74.,\n",
       "        150., 154., 280., 204., 214., 268., 292., 286., 374., 406., 462.,\n",
       "        472., 508., 518., 490., 506., 504., 520., 574., 618., 506., 526.,\n",
       "        542., 502., 486., 420., 372., 376., 312., 268., 280., 202., 154.,\n",
       "        132.,  94.,  70.,  38.,  28.,   6.]),\n",
       " array([-0.3344972 , -0.30932592, -0.28415463, -0.25898334, -0.23381205,\n",
       "        -0.20864076, -0.18346947, -0.15829818, -0.13312689, -0.1079556 ,\n",
       "        -0.08278432, -0.05761303, -0.03244174, -0.00727045,  0.01790084,\n",
       "         0.04307213,  0.06824342,  0.09341471,  0.11858599,  0.14375728,\n",
       "         0.16892857,  0.19409986,  0.21927115,  0.24444244,  0.26961373,\n",
       "         0.29478502,  0.3199563 ,  0.34512759,  0.37029888,  0.39547017,\n",
       "         0.42064146,  0.44581275,  0.47098404,  0.49615533,  0.52132662,\n",
       "         0.5464979 ,  0.57166919,  0.59684048,  0.62201177,  0.64718306,\n",
       "         0.67235435,  0.69752564,  0.72269693,  0.74786821,  0.7730395 ,\n",
       "         0.79821079,  0.82338208,  0.84855337,  0.87372466,  0.89889595,\n",
       "         0.92406724]),\n",
       " <BarContainer object of 50 artists>)"
      ]
     },
     "execution_count": 100,
     "metadata": {},
     "output_type": "execute_result"
    },
    {
     "data": {
      "image/png": "[encoded data removed]",
      "text/plain": [
       "<Figure size 432x288 with 1 Axes>"
      ]
     },
     "metadata": {
      "needs_background": "light"
     },
     "output_type": "display_data"
    }
   ],
   "source": [
    "import matplotlib.pyplot as plt\n",
    "\n",
    "plt.hist(A.flatten(), 50)"
   ]
  },
  {
   "cell_type": "code",
   "execution_count": 91,
   "metadata": {},
   "outputs": [],
   "source": [
    "An = (A - A.mean()) / A.std()"
   ]
  },
  {
   "cell_type": "code",
   "execution_count": 61,
   "metadata": {},
   "outputs": [
    {
     "data": {
      "text/plain": [
       "(array([  4.,   6.,   8.,   8.,   4.,  16.,  32.,  38.,  70.,  70., 132.,\n",
       "        178., 242., 282., 406., 490., 542., 670., 812., 778., 748., 780.,\n",
       "        824., 682., 640., 596., 572., 506., 416., 402., 292., 268., 268.,\n",
       "        290., 258., 244., 172., 130., 136., 118.,  74.,  40.,  70.,  44.,\n",
       "         38.,  24.,  14.,   6.,  12.,   4.]),\n",
       " array([-0.48740521, -0.46165143, -0.43589764, -0.41014386, -0.38439008,\n",
       "        -0.35863629, -0.33288251, -0.30712872, -0.28137494, -0.25562115,\n",
       "        -0.22986737, -0.20411359, -0.1783598 , -0.15260602, -0.12685223,\n",
       "        -0.10109845, -0.07534467, -0.04959088, -0.0238371 ,  0.00191669,\n",
       "         0.02767047,  0.05342426,  0.07917804,  0.10493182,  0.13068561,\n",
       "         0.15643939,  0.18219318,  0.20794696,  0.23370074,  0.25945453,\n",
       "         0.28520831,  0.3109621 ,  0.33671588,  0.36246967,  0.38822345,\n",
       "         0.41397723,  0.43973102,  0.4654848 ,  0.49123859,  0.51699237,\n",
       "         0.54274616,  0.56849994,  0.59425372,  0.62000751,  0.64576129,\n",
       "         0.67151508,  0.69726886,  0.72302264,  0.74877643,  0.77453021,\n",
       "         0.800284  ]),\n",
       " <BarContainer object of 50 artists>)"
      ]
     },
     "execution_count": 61,
     "metadata": {},
     "output_type": "execute_result"
    },
    {
     "data": {
      "image/png": "[encoded data removed]",
      "text/plain": [
       "<Figure size 432x288 with 1 Axes>"
      ]
     },
     "metadata": {
      "needs_background": "light"
     },
     "output_type": "display_data"
    }
   ],
   "source": [
    "plt.hist(A.flatten(), 50)"
   ]
  },
  {
   "cell_type": "code",
   "execution_count": null,
   "metadata": {},
   "outputs": [],
   "source": []
  }
 ],
 "metadata": {
  "kernelspec": {
   "display_name": "ngra",
   "language": "python",
   "name": "python3"
  },
  "language_info": {
   "codemirror_mode": {
    "name": "ipython",
    "version": 3
   },
   "file_extension": ".py",
   "mimetype": "text/x-python",
   "name": "python",
   "nbconvert_exporter": "python",
   "pygments_lexer": "ipython3",
   "version": "3.8.16"
  },
  "orig_nbformat": 4
 },
 "nbformat": 4,
 "nbformat_minor": 2
}
